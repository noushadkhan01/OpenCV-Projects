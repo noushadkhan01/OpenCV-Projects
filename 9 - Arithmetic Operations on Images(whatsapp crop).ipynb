{
 "cells": [
  {
   "cell_type": "markdown",
   "metadata": {},
   "source": [
    "# Arithmetic Operation\n",
    "These are simple operations that allow us to directly add or subtract to the color instantly.\n",
    "\n",
    "Calculate the per-element operation of two arrays. The overall effect is increasing or decreasing brightness."
   ]
  },
  {
   "cell_type": "code",
   "execution_count": 2,
   "metadata": {},
   "outputs": [],
   "source": [
    "import cv2, numpy as np\n",
    "image = cv2.imread('my.JPG')\n",
    "cv2.imshow('Original Image', image)\n",
    "#Create a matrix of ones, then multiply it by a scaler of 75\n",
    "#This gives a matrix with same dimension of our image with all values being 75\n",
    "M1 = np.ones(image.shape, dtype = 'uint8') * 20\n",
    "M2 = np.ones(image.shape, dtype = 'uint8') * 75\n",
    "#We use this to add this matrix M, to our Image\n",
    "#Notice the imcrease in brightness\n",
    "added = cv2.add(image, M1)\n",
    "cv2.imshow('Added', added)\n",
    "#cv2.imwrite('Added Image increased brightness.jpeg', added)\n",
    "\n",
    "#likewise we can also subtract\n",
    "#Notice the decrease in brightness\n",
    "subtracted = cv2.subtract(image, M2)\n",
    "cv2.imshow('Subtracted', subtracted)\n",
    "#cv2.imwrite('Subtracted Image decrease in brightness.jpeg', subtracted)\n",
    "cv2.waitKey()\n",
    "cv2.destroyAllWindows()"
   ]
  },
  {
   "cell_type": "code",
   "execution_count": 10,
   "metadata": {},
   "outputs": [],
   "source": [
    "M2 = np.ones(image.shape, dtype = 'int32') * 100\n",
    "cv2.imshow('M2', M2)\n",
    "cv2.waitKey(2222)\n",
    "cv2.destroyAllWindows()"
   ]
  },
  {
   "cell_type": "markdown",
   "metadata": {},
   "source": [
    "# Bitwise Operations and Masking\n",
    "To demonstrate these operations let's create some simple images"
   ]
  },
  {
   "cell_type": "code",
   "execution_count": 26,
   "metadata": {},
   "outputs": [],
   "source": [
    "import cv2, numpy as np\n",
    "\n",
    "#If you're wondering why only two dimensions, well this is grayscale image,\n",
    "#If we doing a colored image, we'd use\n",
    "#rectangle * np.zeros((300, 300, 3), np.uint8)\n",
    "\n",
    "#Making a square\n",
    "square = np.zeros((300, 300), np.uint8)\n",
    "\n",
    "cv2.rectangle(square, (50, 50), (250, 250), 255, -2)\n",
    "cv2.imshow('Square', square)\n",
    "cv2.waitKey()\n",
    "\n",
    "#Making a ellipse\n",
    "\n",
    "ellipse = np.zeros((300, 300), np.uint8)\n",
    "cv2.ellipse(ellipse, (150, 150), (150, 150), 30, 0, 180, 255, -1)\n",
    "cv2.imshow('Ellipse', ellipse)\n",
    "cv2.imwrite('Ellipse.png', ellipse)\n",
    "cv2.waitKey()\n",
    "cv2.destroyAllWindows()"
   ]
  },
  {
   "cell_type": "markdown",
   "metadata": {},
   "source": [
    "# Experimenting some bitwise operation"
   ]
  },
  {
   "cell_type": "code",
   "execution_count": 32,
   "metadata": {},
   "outputs": [],
   "source": [
    "import cv2, numpy as np\n",
    "\n",
    "#If you're wondering why only two dimensions, well this is grayscale image,\n",
    "#If we doing a colored image, we'd use\n",
    "#rectangle * np.zeros((300, 300, 3), np.uint8)\n",
    "\n",
    "#Making a square\n",
    "square = np.zeros((300, 300), np.uint8)\n",
    "\n",
    "cv2.rectangle(square, (50, 50), (250, 250), 255, -2)\n",
    "cv2.imshow('Square', square)\n",
    "cv2.waitKey()\n",
    "\n",
    "#Making a ellipse\n",
    "\n",
    "ellipse = np.zeros((300, 300), np.uint8)\n",
    "cv2.ellipse(ellipse, (150, 150), (150, 150), 30, 0, 180, 255, -1)\n",
    "cv2.imshow('Ellipse', ellipse)\n",
    "cv2.imwrite('Ellipse.png', ellipse)\n",
    "cv2.waitKey()\n",
    "\n",
    "#bitwise_and\n",
    "#Shows only where they intersect\n",
    "And = cv2.bitwise_and(square, ellipse)\n",
    "cv2.imshow('bitwise square And ellipse', And)\n",
    "cv2.waitKey()\n",
    "\n",
    "##bitwise_or\n",
    "bitwiseOr = cv2.bitwise_or(square, ellipse)\n",
    "cv2.imshow('bitwise square OR ellipse', bitwiseOr)\n",
    "cv2.waitKey()\n",
    "\n",
    "#bitwise_xor\n",
    "bitwiseXor = cv2.bitwise_xor(square, ellipse)\n",
    "cv2.imshow('Bitwise square XOR ellipse', bitwiseXor)\n",
    "cv2.waitKey()\n",
    "\n",
    "#bitwise_not on square\n",
    "bitwiseNot_square = cv2.bitwise_not(square)\n",
    "cv2.imshow('Not square', bitwiseNot_square)\n",
    "cv2.waitKey()\n",
    "\n",
    "#bitwise_not on ellipse\n",
    "bitwiseNot_ellipse = cv2.bitwise_not(ellipse)\n",
    "cv2.imshow('Not ellipse', bitwiseNot_ellipse)\n",
    "cv2.waitKey()\n",
    "cv2.destroyAllWindows()"
   ]
  },
  {
   "cell_type": "markdown",
   "metadata": {},
   "source": [
    "# ADD TWO IMAGES"
   ]
  },
  {
   "cell_type": "markdown",
   "metadata": {},
   "source": [
    "### Whatsapp crop"
   ]
  },
  {
   "cell_type": "code",
   "execution_count": 26,
   "metadata": {},
   "outputs": [],
   "source": [
    "img = cv2.imread('Subtracted Image decrease in brightness.jpeg')\n",
    "img.shape\n",
    "cv2.imshow('original image', img)\n",
    "cv2.waitKey()\n",
    "cv2.destroyAllWindows()\n",
    "\n",
    "img2 = np.zeros((700, 300, 3), np.uint8)\n",
    "cv2.imshow('Zeros image', img2)\n",
    "cv2.waitKey()\n",
    "cv2.destroyAllWindows()\n",
    "\n",
    "img3 = np.concatenate((img, img2), axis = 1)\n",
    "img3 = np.concatenate((img2, img3), axis = 1)\n",
    "cv2.imshow('concatenate', img3)\n",
    "cv2.waitKey()\n",
    "cv2.destroyAllWindows()\n",
    "\n",
    "img3.shape\n",
    "\n",
    "img2 = np.zeros((100, 1112, 3), np.uint8)\n",
    "img3 = np.concatenate((img2, img3), axis = 0)\n",
    "img3 = np.concatenate((img3, img2), axis = 0)\n",
    "cv2.imshow('concatenate', img3)\n",
    "cv2.waitKey()\n",
    "cv2.destroyAllWindows()\n",
    "\n",
    "cv2.imwrite('wtsapp.jpeg', img3)"
   ]
  }
 ],
 "metadata": {
  "kernelspec": {
   "display_name": "Python 3",
   "language": "python",
   "name": "python3"
  },
  "language_info": {
   "codemirror_mode": {
    "name": "ipython",
    "version": 3
   },
   "file_extension": ".py",
   "mimetype": "text/x-python",
   "name": "python",
   "nbconvert_exporter": "python",
   "pygments_lexer": "ipython3",
   "version": "3.6.5"
  }
 },
 "nbformat": 4,
 "nbformat_minor": 2
}
