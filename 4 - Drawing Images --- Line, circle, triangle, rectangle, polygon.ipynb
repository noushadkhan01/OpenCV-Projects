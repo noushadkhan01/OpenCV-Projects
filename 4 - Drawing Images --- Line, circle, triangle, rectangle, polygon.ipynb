{
 "cells": [
  {
   "cell_type": "markdown",
   "metadata": {},
   "source": [
    "### Drawing images and shapes using OpenCv\n",
    "Let's start off by making a black square"
   ]
  },
  {
   "cell_type": "markdown",
   "metadata": {},
   "source": [
    "### to draw an image we need to create a black or white image\n",
    "by \n",
    "\n",
    "np.zeros((dimensions), np.uint8) ----># we can create black box\n",
    "\n",
    "n.ones((dimensions), np.uint8) ------># we can create white image"
   ]
  },
  {
   "cell_type": "code",
   "execution_count": 5,
   "metadata": {},
   "outputs": [],
   "source": [
    "import cv2\n",
    "import numpy as np\n",
    "#Create a black image\n",
    "# 3 means three layers for RGB color\n",
    "image = np.zeros((512, 512, 3), np.uint8)\n",
    "\n",
    "#Can we make this in black and white?\n",
    "image_bw = np.zeros((512, 512), np.uint8)\n",
    "\n",
    "cv2.imshow('Black Rectangel(color)', image)\n",
    "cv2.imshow('Black Retangle (B & W)', image_bw)\n",
    "cv2.waitKey()\n",
    "cv2.destroyAllWindows()"
   ]
  },
  {
   "cell_type": "markdown",
   "metadata": {},
   "source": [
    "# Line"
   ]
  },
  {
   "cell_type": "markdown",
   "metadata": {},
   "source": [
    "### cv2.line(image, starting cordinates, ending cordinates, color, thickness)"
   ]
  },
  {
   "cell_type": "markdown",
   "metadata": {},
   "source": [
    "#### Draw a line over our black square"
   ]
  },
  {
   "cell_type": "code",
   "execution_count": 1,
   "metadata": {},
   "outputs": [],
   "source": [
    "import numpy as np\n",
    "import cv2\n",
    "image = np.zeros((512, 512, 3), np.uint8)\n",
    "cv2.line(image, (0, 0), (512, 512), (255, 127, 0), 5)\n",
    "cv2.imshow('Blue Line', image)\n",
    "cv2.waitKey()\n",
    "cv2.destroyAllWindows()"
   ]
  },
  {
   "cell_type": "markdown",
   "metadata": {},
   "source": [
    "# Rectangle"
   ]
  },
  {
   "cell_type": "markdown",
   "metadata": {},
   "source": [
    "### rectange(image, starting vertex, opposite vertex, color, thickness)"
   ]
  },
  {
   "cell_type": "code",
   "execution_count": 3,
   "metadata": {},
   "outputs": [],
   "source": [
    "image = np.ones((512, 512, 3), np.uint8)\n",
    "cv2.rectangle(image,(100, 100), (300, 250), (127, 50, 127), 3)\n",
    "cv2.imshow('Rectangle', image)\n",
    "cv2.waitKey()\n",
    "cv2.destroyAllWindows()"
   ]
  },
  {
   "cell_type": "markdown",
   "metadata": {},
   "source": [
    "##### ^if you want to fill the rectangle with passed color the pass the thickness = -1"
   ]
  },
  {
   "cell_type": "markdown",
   "metadata": {},
   "source": [
    "# Circle"
   ]
  },
  {
   "cell_type": "markdown",
   "metadata": {},
   "source": [
    "### cv2.circle(image, center, radius, color, thickness)"
   ]
  },
  {
   "cell_type": "code",
   "execution_count": 9,
   "metadata": {},
   "outputs": [],
   "source": [
    "image = np.ones((512, 512, 3), np.uint8)\n",
    "cv2.circle(image, (256, 256), (50), (255, 2, 255), -3)\n",
    "cv2.imshow('Circle', image)\n",
    "cv2.waitKey()\n",
    "cv2.destroyAllWindows()"
   ]
  },
  {
   "cell_type": "markdown",
   "metadata": {},
   "source": [
    "# polylines\n",
    "by this we can create triange, polygon, hexagon, ocatve etc..."
   ]
  },
  {
   "cell_type": "markdown",
   "metadata": {},
   "source": [
    "### polylines(img, pts, isClosed, color, thickness)"
   ]
  },
  {
   "cell_type": "markdown",
   "metadata": {},
   "source": [
    "## Polygons"
   ]
  },
  {
   "cell_type": "code",
   "execution_count": 2,
   "metadata": {},
   "outputs": [
    {
     "name": "stdout",
     "output_type": "stream",
     "text": [
      "Before reshape [[ 10  50]\n",
      " [400  50]\n",
      " [ 90 200]\n",
      " [ 50 500]]\n",
      "After reshape [[[ 10  50]]\n",
      "\n",
      " [[400  50]]\n",
      "\n",
      " [[ 90 200]]\n",
      "\n",
      " [[ 50 500]]]\n"
     ]
    }
   ],
   "source": [
    "import numpy as np, cv2\n",
    "image = np.zeros((512, 512, 3), np.uint8)\n",
    "#Let's define for point\n",
    "pts = np.array([[10, 50], [400, 50], [90, 200], [50, 500]], np.int32)\n",
    "print(f'Before reshape {pts}')\n",
    "#Let's nw reshape our pints in form requred by polylines\n",
    "pts = pts.reshape((-1, 1, 2))\n",
    "print(f'After reshape {pts}')\n",
    "cv2.polylines(image, [pts], True, (0, 0, 255), 3)\n",
    "cv2.imshow('Polygon', image)\n",
    "cv2.waitKey()\n",
    "cv2.destroyAllWindows()"
   ]
  },
  {
   "cell_type": "markdown",
   "metadata": {},
   "source": [
    "# Trinangle"
   ]
  },
  {
   "cell_type": "markdown",
   "metadata": {},
   "source": [
    "#### EXCERCISE"
   ]
  },
  {
   "cell_type": "code",
   "execution_count": 8,
   "metadata": {},
   "outputs": [],
   "source": [
    "image = np.zeros((512, 512, 3), np.uint8)\n",
    "#Let's define for pints\n",
    "pts = np.array([[1, 509], [254, 1], [509, 509]], np.int32)\n",
    "#Let's nw reshape our pints in form requred by polylines\n",
    "pts = pts.reshape((-1, 1, 2))\n",
    "cv2.polylines(image, [pts], True, (0, 0, 255), 3)\n",
    "cv2.rectangle(image, (127, 255), (381, 509), (0, 255, 0), -3)\n",
    "cv2.circle(image, (254, 382), (127), (255, 0, 0), -4)\n",
    "cv2.putText(image, 'Noushad Khan', (134, 389), cv2.FONT_HERSHEY_COMPLEX, 1, (255, 255, 255), 3)\n",
    "cv2.imshow('Project', image)\n",
    "cv2.waitKey()\n",
    "cv2.destroyAllWindows()"
   ]
  },
  {
   "cell_type": "markdown",
   "metadata": {},
   "source": [
    "# Text"
   ]
  },
  {
   "cell_type": "markdown",
   "metadata": {},
   "source": [
    "### cv2.putText(image, 'Text to display', bottom left starting point, Font Type, Font Size, Color, thickness)"
   ]
  },
  {
   "cell_type": "markdown",
   "metadata": {},
   "source": [
    "## Font style\n",
    "FONT_HERSHEY_SIMPLEX, FONT_HERSHEY_PLAIN\n",
    "FONT_HERSHEY_DUPLEX, FONT_HERSHEY_COMPLEX\n",
    "FONT_HERSHEY_TRIPLEX, FONT_HERSHEY_COMPLEX_SMALL\n",
    "FONT_HERSHEY_SCRIPT_SIMPLEX\n",
    "FONT_HERSHEY_SCRIPT_COMPLEX"
   ]
  },
  {
   "cell_type": "code",
   "execution_count": 3,
   "metadata": {},
   "outputs": [],
   "source": [
    "import cv2, numpy as np\n",
    "image = np.ones((512, 512, 3), np.uint8)\n",
    "cv2.putText(image, 'Noushad Khan', (134, 389), cv2.FONT_HERSHEY_SCRIPT_SIMPLEX, 1, (255, 255, 255), 3)\n",
    "cv2.imshow('Text', image)\n",
    "cv2.waitKey()\n",
    "cv2.destroyAllWindows()"
   ]
  }
 ],
 "metadata": {
  "kernelspec": {
   "display_name": "Python 3",
   "language": "python",
   "name": "python3"
  },
  "language_info": {
   "codemirror_mode": {
    "name": "ipython",
    "version": 3
   },
   "file_extension": ".py",
   "mimetype": "text/x-python",
   "name": "python",
   "nbconvert_exporter": "python",
   "pygments_lexer": "ipython3",
   "version": "3.6.5"
  }
 },
 "nbformat": 4,
 "nbformat_minor": 2
}
