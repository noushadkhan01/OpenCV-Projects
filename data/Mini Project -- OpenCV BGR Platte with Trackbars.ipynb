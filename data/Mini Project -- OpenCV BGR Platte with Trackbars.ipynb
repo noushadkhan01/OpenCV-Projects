{
 "cells": [
  {
   "cell_type": "code",
   "execution_count": 1,
   "metadata": {},
   "outputs": [],
   "source": [
    "import cv2, numpy as np"
   ]
  },
  {
   "cell_type": "code",
   "execution_count": 7,
   "metadata": {},
   "outputs": [],
   "source": [
    "import cv2, numpy as np\n",
    "def emptyfunc(x):\n",
    "    global windowName\n",
    "    pass\n",
    "img1 = np.zeros((512, 512, 3), np.uint8)\n",
    "windowName = 'OpenCV BGR Color Palette'\n",
    "cv2.namedWindow(windowName)\n",
    "cv2.createTrackbar('B', windowName, 0, 255 , emptyfunc)\n",
    "cv2.createTrackbar('G', windowName, 0, 255 , emptyfunc)\n",
    "cv2.createTrackbar('R', windowName, 0, 255 , emptyfunc)\n",
    "while True:\n",
    "    cv2.imshow(windowName, img1)\n",
    "    if cv2.waitKey(1) == 27:\n",
    "        break\n",
    "    blue = cv2.getTrackbarPos('B', windowName)\n",
    "    green = cv2.getTrackbarPos('G', windowName)    \n",
    "    red = cv2.getTrackbarPos('R', windowName) \n",
    "    img1[:] = [blue, green, red]\n",
    "cv2.destroyAllWindows()\n"
   ]
  },
  {
   "cell_type": "code",
   "execution_count": 26,
   "metadata": {},
   "outputs": [],
   "source": [
    "def color_window():\n",
    "    import cv2\n",
    "    import numpy as np\n",
    "\n",
    "    def nothing(x):\n",
    "        pass\n",
    "\n",
    "    # Create a black image, a window\n",
    "    img = np.zeros((300,512,3), np.uint8)\n",
    "    cv2.namedWindow('image')\n",
    "\n",
    "    # create trackbars for color change\n",
    "    cv2.createTrackbar('B','image',0,255,nothing)\n",
    "    cv2.createTrackbar('G','image',0,255,nothing)\n",
    "    cv2.createTrackbar('R','image',0,255,nothing)\n",
    "\n",
    "    # create switch for ON/OFF functionality\n",
    "    #switch = '0 : OFF \\n1 : ON'\n",
    "    #cv2.createTrackbar(switch, 'image',0,1,nothing)\n",
    "\n",
    "    while True:\n",
    "        cv2.imshow('image',img)\n",
    "        k = cv2.waitKey(1) & 0xFF\n",
    "        if k == 27:\n",
    "            break\n",
    "\n",
    "        # get current positions of four trackbars\n",
    "        b = cv2.getTrackbarPos('B','image')\n",
    "        g = cv2.getTrackbarPos('G','image')\n",
    "        r = cv2.getTrackbarPos('R','image')\n",
    "        #s = cv2.getTrackbarPos(switch,'image')\n",
    "        color = [b,g,r]\n",
    "        #print(color)\n",
    "        return img, color\n",
    "image, color = color_window()\n",
    "cv2.imshow('Image2', image)\n",
    "cv2.waitKey()\n",
    "cv2.destroyAllWindows()"
   ]
  },
  {
   "cell_type": "code",
   "execution_count": null,
   "metadata": {},
   "outputs": [],
   "source": []
  }
 ],
 "metadata": {
  "kernelspec": {
   "display_name": "Python 3",
   "language": "python",
   "name": "python3"
  }
 },
 "nbformat": 4,
 "nbformat_minor": 2
}
