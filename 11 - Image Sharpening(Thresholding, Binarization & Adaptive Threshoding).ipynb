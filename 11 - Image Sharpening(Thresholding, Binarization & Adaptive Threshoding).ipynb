{
 "cells": [
  {
   "cell_type": "code",
   "execution_count": null,
   "metadata": {},
   "outputs": [],
   "source": [
    "import numpy as np, cv2\n",
    "from IPython.display import Image"
   ]
  },
  {
   "cell_type": "code",
   "execution_count": null,
   "metadata": {},
   "outputs": [],
   "source": [
    "Image('tutorial images/image sharpening.png')"
   ]
  },
  {
   "cell_type": "code",
   "execution_count": null,
   "metadata": {},
   "outputs": [],
   "source": [
    "import cv2, numpy as np\n",
    "from IPython.display import Image\n",
    "import IPython.display\n",
    "image = cv2.imread('my.JPG')\n",
    "cv2.imshow('Original Image', image)\n",
    "cv2.waitKey()\n",
    "\n",
    "#create our shapening kernel, we don't normalize since the value\n",
    "# in matrix sum to 1\n",
    "\n",
    "kernel_sharpening = np.array([[-1, -1, -1],\n",
    "                  [-1, 9, -1],\n",
    "                  [-1, -1, -1]]\n",
    "                  )\n",
    "#Applying different kernels to the input image\n",
    "sharpened = cv2.filter2D(image, -1, kernel_sharpening)\n",
    "cv2.imshow(\"Image Sharpening\", sharpened)\n",
    "cv2.imwrite('Sharped Image.jpeg', sharpened)\n",
    "cv2.waitKey()\n",
    "cv2.destroyAllWindows()\n",
    "image = cv2.cvtColor(image, cv2.COLOR_BGR2RGB)\n",
    "sharpened = cv2.cvtColor(sharpened, cv2.COLOR_BGR2RGB)\n",
    "import matplotlib.pyplot as plt\n",
    "%matplotlib inline\n",
    "plt.figure(figsize = (10, 5))\n",
    "plt.subplot(1, 2, 1)\n",
    "plt.title('Original Image')\n",
    "plt.imshow(image)\n",
    "plt.subplot(1, 2, 2)\n",
    "plt.title('Sharpened Image')\n",
    "plt.imshow(sharpened)\n",
    "plt.show()"
   ]
  },
  {
   "cell_type": "markdown",
   "metadata": {},
   "source": [
    "# Thresholding, Binarization & Adaptive Thresholding"
   ]
  },
  {
   "cell_type": "code",
   "execution_count": null,
   "metadata": {},
   "outputs": [],
   "source": [
    "Image('tutorial images\\Thresholding, Binarization & Adaptive Thresholding.png')"
   ]
  },
  {
   "cell_type": "markdown",
   "metadata": {},
   "source": [
    "## Thresholding:-\n",
    "Thresholding is very important OpenCV function because its quite usefull."
   ]
  },
  {
   "cell_type": "markdown",
   "metadata": {},
   "source": [
    "#### Note:-- Image need to be converted to grayscale before thresholding."
   ]
  },
  {
   "cell_type": "markdown",
   "metadata": {},
   "source": [
    "## ret, output = cv2.threshold(grayscale image, thresh value, max_value, threshold type)\n",
    "\n",
    "ret ---> algo that we are applying"
   ]
  },
  {
   "cell_type": "code",
   "execution_count": null,
   "metadata": {},
   "outputs": [],
   "source": [
    "import numpy as np, cv2\n",
    "import IPython.display\n",
    "from IPython.display import Image\n",
    "\n",
    "image = cv2.imread('my.JPG')\n",
    "\n",
    "cv2.imshow('Original Image', image)\n",
    "cv2.waitKey()\n",
    "ret, thresh1 = cv2.threshold(image, 127, 255, cv2.THRESH_BINARY)\n",
    "cv2.imshow('1 THRESH_BINARY', thresh1)\n",
    "cv2.imwrite('THRESH_BINARY.png', thresh1)\n",
    "cv2.waitKey()\n",
    "#values above 127 go to 255 and values above 127 go to 0(reverse of above one)\n",
    "ret, thresh2 = cv2.threshold(image, 127, 255, cv2.THRESH_BINARY_INV)\n",
    "cv2.imshow('2 THRESH_BINARY_INV', thresh2)\n",
    "cv2.imwrite('THRESH_BINARY_INV.png', thresh2)\n",
    "cv2.waitKey()\n",
    "#Values above 127 are truncated (held) at 127 (the 255 argument is unused)\n",
    "ret, thresh3 = cv2.threshold(image, 127, 255, cv2.THRESH_TRUNC)\n",
    "cv2.imshow('3 Thresh TRUNC', thresh3)\n",
    "cv2.imwrite('THRESH_TRUNC.png', thresh3)\n",
    "cv2.waitKey()\n",
    "\n",
    "#Values below 127 go to 0, above 127 are unchanged\n",
    "\n",
    "ret, thresh4 = cv2.threshold(image, 127, 255, cv2.THRESH_TOZERO)\n",
    "cv2.imshow('4 THRESH TOZERO', thresh4)\n",
    "cv2.imwrite('THRESH_TOZERO.png', thresh4)\n",
    "cv2.waitKey()\n",
    "#Reverse of above, below 127 is unchanged, above 127 goes to 0\n",
    "\n",
    "ret, thresh5 = cv2.threshold(image, 127, 255, cv2.THRESH_TOZERO_INV)\n",
    "cv2.imshow('5 THRESH TOZERO_INV', thresh5)\n",
    "cv2.imwrite('THRESH_TOZERO_INV.png', thresh5)\n",
    "cv2.waitKey()\n",
    "cv2.destroyAllWindows()"
   ]
  },
  {
   "cell_type": "markdown",
   "metadata": {},
   "source": [
    "# show Images"
   ]
  },
  {
   "cell_type": "code",
   "execution_count": null,
   "metadata": {},
   "outputs": [],
   "source": [
    "from show_images import show_images"
   ]
  },
  {
   "cell_type": "code",
   "execution_count": null,
   "metadata": {},
   "outputs": [],
   "source": [
    "images = [image, thresh1, thresh2, thresh3, thresh4, thresh5]"
   ]
  },
  {
   "cell_type": "code",
   "execution_count": null,
   "metadata": {},
   "outputs": [],
   "source": [
    "names = ['Original', 'THRESH_BINARY', 'THRESH_BINARY_INV', 'THRESH_TRUNC', 'THRESH_TOZERO', 'THRESH_TOZERO_INV']\n",
    "print(names)"
   ]
  },
  {
   "cell_type": "code",
   "execution_count": null,
   "metadata": {
    "scrolled": false
   },
   "outputs": [],
   "source": [
    "%matplotlib inline\n",
    "show_images(images, names, grayscale = True, ticks = True, width = 15, height = 10)"
   ]
  },
  {
   "cell_type": "markdown",
   "metadata": {},
   "source": [
    "#### Is there a better way off thresholding?\n",
    "The biggest downfall of those simple threshold methods is that we need to provide the threshold value(i.e. the 127 value we used previously)"
   ]
  },
  {
   "cell_type": "markdown",
   "metadata": {},
   "source": [
    "#### What if there was a smarter way of doing this?\n",
    "There is with, Adaptive thresholding"
   ]
  },
  {
   "cell_type": "markdown",
   "metadata": {},
   "source": [
    "# Otsu's Binarization Thresholding"
   ]
  },
  {
   "cell_type": "code",
   "execution_count": 5,
   "metadata": {},
   "outputs": [],
   "source": [
    "import cv2, numpy as np\n",
    "image = cv2.imread('Threshold practice.jpg', 0)\n",
    "#image = cv2.cvtColor(image, cv2.COLOR_BGR2RGB)\n",
    "cv2.imshow('Original Image', image)\n",
    "cv2.waitKey()\n",
    "ret, thresh1 = cv2.threshold(image, 127, 255, cv2.THRESH_BINARY +  cv2.THRESH_OTSU)\n",
    "cv2.imshow('1 THRESH_BINARY plus THRESH_OTSU ', thresh1)\n",
    "cv2.imwrite('THRESH_BINARY plus THRESH_OTSU .png', thresh1)\n",
    "cv2.waitKey()\n",
    "#values above 127 go to 255 and values above 127 go to 0(reverse of above one)\n",
    "ret, thresh2 = cv2.threshold(image, 127, 255, cv2.THRESH_BINARY_INV +  cv2.THRESH_OTSU)\n",
    "cv2.imshow('2 THRESH_BINARY_INV plus THRESH_OTSU ', thresh2)\n",
    "cv2.imwrite('THRESH_BINARY_INV plus THRESH_OTSU.png', thresh2)\n",
    "cv2.waitKey()\n",
    "#Values above 127 are truncated (held) at 127 (the 255 argument is unused)\n",
    "ret, thresh3 = cv2.threshold(image, 127, 255, cv2.THRESH_TRUNC + cv2.THRESH_OTSU)\n",
    "cv2.imshow('3 Thresh TRUNC plus THRESH_OTSU ', thresh3)\n",
    "cv2.imwrite('THRESH_TRUNC plus THRESH_OTSU.png', thresh3)\n",
    "cv2.waitKey()\n",
    "\n",
    "#Values below 127 go to 0, above 127 are unchanged\n",
    "\n",
    "ret, thresh4 = cv2.threshold(image, 127, 255, cv2.THRESH_TOZERO + cv2.THRESH_OTSU)\n",
    "cv2.imshow('4 THRESH TOZERO plus THRESH_OTSU ', thresh4)\n",
    "cv2.imwrite('THRESH_TOZERO plus THRESH_OTSU.png', thresh4)\n",
    "cv2.waitKey()\n",
    "#Reverse of above, below 127 is unchanged, above 127 goes to 0\n",
    "\n",
    "ret, thresh5 = cv2.threshold(image, 127, 255, cv2.THRESH_TOZERO_INV + cv2.THRESH_OTSU)\n",
    "cv2.imshow('5 THRESH TOZERO_INV plus THRESH_OTSU ', thresh5)\n",
    "cv2.imwrite('THRESH_TOZERO_INV plus THRESH_OTSU.png', thresh5)\n",
    "cv2.waitKey()\n",
    "cv2.destroyAllWindows()\n",
    "cv2.destroyAllWindows()"
   ]
  },
  {
   "cell_type": "code",
   "execution_count": null,
   "metadata": {},
   "outputs": [],
   "source": [
    "names = ['Original', 'THRESH_BINARY + THRESH_OTSU', 'THRESH_BINARY_INV + THRESH_OTSU', 'THRESH_TRUNC + THRESH_OTSU', 'THRESH_TOZERO + THRESH_OTSU', 'THRESH_TOZERO_INV + THRESH_OTSU']\n",
    "print(names)"
   ]
  },
  {
   "cell_type": "code",
   "execution_count": null,
   "metadata": {},
   "outputs": [],
   "source": [
    "images = [image, thresh1, thresh2, thresh3, thresh4, thresh5]"
   ]
  },
  {
   "cell_type": "code",
   "execution_count": null,
   "metadata": {},
   "outputs": [],
   "source": [
    "from show_images import show_images"
   ]
  },
  {
   "cell_type": "code",
   "execution_count": null,
   "metadata": {},
   "outputs": [],
   "source": [
    "help(show_images)"
   ]
  },
  {
   "cell_type": "code",
   "execution_count": null,
   "metadata": {},
   "outputs": [],
   "source": [
    "%matplotlib inline\n",
    "show_images(images, names, cmap = 'gray', width = 22, height = 22)"
   ]
  },
  {
   "cell_type": "markdown",
   "metadata": {},
   "source": [
    "# Adaptive Thresholding"
   ]
  },
  {
   "cell_type": "code",
   "execution_count": 1,
   "metadata": {},
   "outputs": [],
   "source": [
    "import numpy as np, cv2\n",
    "image = cv2.imread('Threshold practice.jpg', 0)\n",
    "cv2.imshow('Original Paper', image)\n",
    "\n",
    "#values below 127 goes to 0 (block, everything above goes to 255(white))\n",
    "ret, thresh1 = cv2.threshold(image, 127, 255, cv2.THRESH_BINARY)\n",
    "cv2.imshow('1 THRESH_BINARY', thresh1)\n",
    "#cv2.imwrite('Paper THRESH_BINARY.png', thresh1)\n",
    "cv2.waitKey()\n",
    "\n",
    "#It's good practice to blur image as it removes noise\n",
    "blur = cv2.GaussianBlur(image, (3, 3), 0)\n",
    "\n",
    "#Using adaptiveThreshold\n",
    "#thresh2 = cv2.adaptiveThreshold(blur, 255, cv2.ADAPTIVE_THRESH_MEAN_C , cv2.THRESH_BINARY, 3, 5)\n",
    "#cv2.imshow('Adaptive Mean Thresholding', thresh2)\n",
    "#cv2.imwrite('Adaptive Mean Thresholding.png', thresh2)\n",
    "#cv2.waitKey()\n",
    "\n",
    "_, th2 = cv2.threshold(blur, 0, 255, cv2.THRESH_BINARY + cv2.THRESH_OTSU)\n",
    "cv2.imshow(\"otsu's Thresholding\", th2)\n",
    "cv2.waitKey()\n",
    "\n",
    "blur = cv2.GaussianBlur(image, (5, 5), 0)\n",
    "_, th3 = cv2.threshold(blur, 0, 255, cv2.THRESH_BINARY + cv2.THRESH_OTSU)\n",
    "cv2.imshow(\"Gaussian Otsu's Thresholding\", th3)\n",
    "cv2.waitKey()\n",
    "cv2.destroyAllWindows()"
   ]
  },
  {
   "cell_type": "code",
   "execution_count": null,
   "metadata": {},
   "outputs": [],
   "source": []
  },
  {
   "cell_type": "code",
   "execution_count": null,
   "metadata": {},
   "outputs": [],
   "source": []
  }
 ],
 "metadata": {
  "kernelspec": {
   "display_name": "Python 3",
   "language": "python",
   "name": "python3"
  },
  "language_info": {
   "codemirror_mode": {
    "name": "ipython",
    "version": 3
   },
   "file_extension": ".py",
   "mimetype": "text/x-python",
   "name": "python",
   "nbconvert_exporter": "python",
   "pygments_lexer": "ipython3",
   "version": "3.6.5"
  }
 },
 "nbformat": 4,
 "nbformat_minor": 2
}
