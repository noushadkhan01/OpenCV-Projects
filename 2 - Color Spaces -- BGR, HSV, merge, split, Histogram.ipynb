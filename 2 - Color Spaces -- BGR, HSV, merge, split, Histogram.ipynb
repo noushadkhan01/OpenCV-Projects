{
 "cells": [
  {
   "cell_type": "markdown",
   "metadata": {},
   "source": [
    "### Let's take a closer look at color spaces"
   ]
  },
  {
   "cell_type": "markdown",
   "metadata": {},
   "source": [
    "#### First thing to remember about OpenCV's RGB is that it's BGR (I know, this is annoying)\n",
    "this is because of alphabetical order"
   ]
  },
  {
   "cell_type": "code",
   "execution_count": 3,
   "metadata": {},
   "outputs": [
    {
     "data": {
      "text/plain": [
       "(5184, 3456, 3)"
      ]
     },
     "execution_count": 3,
     "metadata": {},
     "output_type": "execute_result"
    }
   ],
   "source": [
    "image = cv2.imread('my.jpeg')\n",
    "image.shape"
   ]
  },
  {
   "cell_type": "markdown",
   "metadata": {},
   "source": [
    "##### it's a DSLR image so its dimension's are very high so it will not open fully in window screen"
   ]
  },
  {
   "cell_type": "markdown",
   "metadata": {},
   "source": [
    "###### Let's take a look at the image again"
   ]
  },
  {
   "cell_type": "code",
   "execution_count": 1,
   "metadata": {},
   "outputs": [],
   "source": [
    "import cv2\n",
    "import numpy as np\n",
    "\n",
    "image = cv2.imread('my.jpeg', 200) #this 200 is for to change the size\n",
    "cv2.imshow('show', image)\n",
    "cv2.waitKey()\n",
    "cv2.destroyAllWindows()"
   ]
  },
  {
   "cell_type": "code",
   "execution_count": 2,
   "metadata": {},
   "outputs": [
    {
     "data": {
      "text/plain": [
       "(648, 432, 3)"
      ]
     },
     "execution_count": 2,
     "metadata": {},
     "output_type": "execute_result"
    }
   ],
   "source": [
    "image.shape"
   ]
  },
  {
   "cell_type": "markdown",
   "metadata": {},
   "source": [
    "##### Let's look at the individual color levels for the first pixe(0, 0)"
   ]
  },
  {
   "cell_type": "code",
   "execution_count": 11,
   "metadata": {},
   "outputs": [
    {
     "name": "stdout",
     "output_type": "stream",
     "text": [
      "140 150 150\n"
     ]
    }
   ],
   "source": [
    "#BGR values for the first 0, 0 pixel\n",
    "B, G, R = image[0, 0]\n",
    "print(B, G, R)"
   ]
  },
  {
   "cell_type": "markdown",
   "metadata": {},
   "source": [
    "#### Let's see what happens when we convert it to grayscale"
   ]
  },
  {
   "cell_type": "code",
   "execution_count": 12,
   "metadata": {},
   "outputs": [
    {
     "data": {
      "text/plain": [
       "(648, 432, 3)"
      ]
     },
     "execution_count": 12,
     "metadata": {},
     "output_type": "execute_result"
    }
   ],
   "source": [
    "image.shape"
   ]
  },
  {
   "cell_type": "markdown",
   "metadata": {},
   "source": [
    "## cv2.cvtColor(image, cv2.COLOR_BGR2GRAY)\n",
    "Its used to change the 3-D(colored) image in 2-D(gray) image"
   ]
  },
  {
   "cell_type": "markdown",
   "metadata": {},
   "source": [
    "###### ^As you can see it's two dimension image the values 3 represents the BGR color's of image"
   ]
  },
  {
   "cell_type": "code",
   "execution_count": 15,
   "metadata": {},
   "outputs": [
    {
     "name": "stdout",
     "output_type": "stream",
     "text": [
      "(648, 432)\n"
     ]
    }
   ],
   "source": [
    "gray_img = cv2.cvtColor(image, cv2.COLOR_BGR2GRAY)\n",
    "cv2.imshow('gray image', gray_img)\n",
    "cv2.waitKey(2220)\n",
    "cv2.destroyAllWindows()\n",
    "print(gray_img.shape)"
   ]
  },
  {
   "cell_type": "markdown",
   "metadata": {},
   "source": [
    "###### ^as you can see it's a two dimension image so actually grayscale method is convert the three dimension image to two dimension by deleting 3rd dimension of image for color to 2 dimension"
   ]
  },
  {
   "cell_type": "markdown",
   "metadata": {},
   "source": [
    "# HSV \n",
    "another color format"
   ]
  },
  {
   "cell_type": "markdown",
   "metadata": {},
   "source": [
    "### cv2.cvtColor(image, cv2.COLOR_BGR2HSV)"
   ]
  },
  {
   "cell_type": "markdown",
   "metadata": {},
   "source": [
    "###### it's very useful color format used in color filtering"
   ]
  },
  {
   "cell_type": "code",
   "execution_count": 16,
   "metadata": {},
   "outputs": [],
   "source": [
    "img = cv2.imread('my.jpeg', 200)\n",
    "hsv_img = cv2.cvtColor(img, cv2.COLOR_BGR2HSV)\n",
    "cv2.imshow('HSV image', hsv_img)\n",
    "cv2.imshow('Hue channel', hsv_img[:, :, 0])\n",
    "cv2.imshow('Saturation channel', hsv_img[:, :, 1])\n",
    "cv2.imshow('values channel', hsv_img[:, :, 2])\n",
    "cv2.waitKey()\n",
    "cv2.destroyAllWindows()"
   ]
  },
  {
   "cell_type": "markdown",
   "metadata": {},
   "source": [
    "#### Let's now explore looking at individual channels in an RGB image"
   ]
  },
  {
   "cell_type": "code",
   "execution_count": 18,
   "metadata": {},
   "outputs": [
    {
     "data": {
      "text/plain": [
       "(648, 432, 3)"
      ]
     },
     "execution_count": 18,
     "metadata": {},
     "output_type": "execute_result"
    }
   ],
   "source": [
    "img.shape"
   ]
  },
  {
   "cell_type": "markdown",
   "metadata": {},
   "source": [
    "# Merge, Split"
   ]
  },
  {
   "cell_type": "code",
   "execution_count": 27,
   "metadata": {},
   "outputs": [
    {
     "name": "stdout",
     "output_type": "stream",
     "text": [
      "B's shape is (648, 432)\n",
      "G's shape is (648, 432)\n",
      "R's shape is (648, 432)\n"
     ]
    }
   ],
   "source": [
    "#OpenCV's 'split' function splites the image into each color index\n",
    "B, G, R = cv2.split(image)\n",
    "print(f'B\\'s shape is {B.shape}')\n",
    "print(f'G\\'s shape is {G.shape}')\n",
    "print(f'R\\'s shape is {R.shape}')\n",
    "cv2.imshow('Red', R) #all R, G, B images going to show as gray image because it's have only one dimension\n",
    "cv2.imshow('Green', G)\n",
    "cv2.imshow('Blue', B)\n",
    "cv2.waitKey()\n",
    "cv2.destroyAllWindows()\n",
    "\n",
    "#Let's re-make the original image,\n",
    "merged = cv2.merge([B, G, R]) # we need to pass all three color channels otherwise it will give us erro\n",
    "cv2.imshow('Merged', merged)\n",
    "\n",
    "#Let's amplify the blue color\n",
    "merged = cv2.merge([B+100, G, R])\n",
    "cv2.imshow('Merged withe Blue Amplified', merged)\n",
    "cv2.waitKey(0)\n",
    "cv2.destroyAllWindows()"
   ]
  },
  {
   "cell_type": "markdown",
   "metadata": {},
   "source": [
    "# Merge 2 images"
   ]
  },
  {
   "cell_type": "code",
   "execution_count": 13,
   "metadata": {},
   "outputs": [],
   "source": [
    "import cv2\n",
    "import numpy as np\n",
    "img1 = cv2.imread('my.jpeg')\n",
    "img1 = cv2.resize(img1, (512, 700), interpolation = cv2.INTER_AREA) \n",
    "img2 = cv2.imread('my2.JPG')\n",
    "img2 = cv2.resize(img2, (512, 700), interpolation = cv2.INTER_AREA) \n",
    "\n",
    "cv2.imwrite('my.JPG', img1)\n",
    "cv2.imwrite('my2.JPG', img2)\n",
    "#cv2.imshow('1', img1)\n",
    "#cv2.imshow('2', img2)\n",
    "B1, G1, R1 = cv2.split(img1)\n",
    "B2, G2, R2 = cv2.split(img2)\n",
    "merged = cv2.merge([B1, G1 + G2, R1 + R2])\n",
    "merged2 = np.concatenate((img1, img2), axis = 1)\n",
    "subtract = img1 - img2\n",
    "add = img1 + img2\n",
    "multiply = img1 * img2\n",
    "devided = img1 / img2\n",
    "img1by2 = img1 / 2\n",
    "cv2.imshow('img1by2', img1by2)\n",
    "cv2.imshow('Merged', merged)\n",
    "cv2.imshow('Merged By concatenate', merged2)\n",
    "cv2.imshow('Subtracted image', subtract)\n",
    "cv2.imshow('Added image', add)\n",
    "cv2.imshow('Multiplied images', multiply)\n",
    "cv2.imshow('Devide images', devided)\n",
    "cv2.waitKey()\n",
    "cv2.destroyAllWindows()"
   ]
  },
  {
   "cell_type": "markdown",
   "metadata": {},
   "source": [
    "##### ^by this we see all R, G, B in gray scale because these all are 2-D images"
   ]
  },
  {
   "cell_type": "markdown",
   "metadata": {},
   "source": [
    "### But if we want to see R, G, B in colored"
   ]
  },
  {
   "cell_type": "code",
   "execution_count": 28,
   "metadata": {},
   "outputs": [
    {
     "data": {
      "text/plain": [
       "(648, 432, 3)"
      ]
     },
     "execution_count": 28,
     "metadata": {},
     "output_type": "execute_result"
    }
   ],
   "source": [
    "img.shape"
   ]
  },
  {
   "cell_type": "code",
   "execution_count": 29,
   "metadata": {},
   "outputs": [
    {
     "data": {
      "text/plain": [
       "(648, 432)"
      ]
     },
     "execution_count": 29,
     "metadata": {},
     "output_type": "execute_result"
    }
   ],
   "source": [
    "img.shape[:2]"
   ]
  },
  {
   "cell_type": "code",
   "execution_count": 32,
   "metadata": {},
   "outputs": [],
   "source": [
    "B, G, R = cv2.split(img)\n",
    "\n",
    "#let's create a matrix of zeros\n",
    "#with dimensions of the image h x w\n",
    "zeros = np.zeros(img.shape[:2], dtype = 'uint8')\n",
    "cv2.imshow('Red', cv2.merge([zeros, zeros, R]))\n",
    "cv2.imshow('Green', cv2.merge([zeros, zeros, G]))\n",
    "cv2.imshow('Blue', cv2.merge([zeros, zeros, B]))\n",
    "cv2.waitKey()\n",
    "cv2.destroyAllWindows()"
   ]
  },
  {
   "cell_type": "markdown",
   "metadata": {},
   "source": [
    "# Histogram"
   ]
  },
  {
   "cell_type": "markdown",
   "metadata": {},
   "source": [
    "### Histogram are a great way to visualize individual color components"
   ]
  },
  {
   "cell_type": "code",
   "execution_count": 34,
   "metadata": {
    "scrolled": false
   },
   "outputs": [
    {
     "data": {
      "image/png": "[encoded data removed]",
      "text/plain": [
       "<Figure size 432x288 with 1 Axes>"
      ]
     },
     "metadata": {},
     "output_type": "display_data"
    },
    {
     "data": {
      "image/png": "[encoded data removed]",
      "text/plain": [
       "<Figure size 432x288 with 1 Axes>"
      ]
     },
     "metadata": {},
     "output_type": "display_data"
    }
   ],
   "source": [
    "import cv2\n",
    "import numpy as np\n",
    "#We need to import matplotlib to create our histogram plots\n",
    "import matplotlib.pyplot as plt\n",
    "image = cv2.imread('my.jpeg', 200)\n",
    "histogram = cv2.calcHist([image], [0], None, [256], [0, 256])\n",
    "\n",
    "#We plot a histogram, ravel() flatnes our image array\n",
    "plt.hist(image.ravel(), 256, [0, 256])\n",
    "plt.show()\n",
    "#viewing spearate color channels\n",
    "color = ('b', 'g', 'r')\n",
    "\n",
    "#We now separate the colors and plot each in the Histogram\n",
    "for i, col in enumerate(color):\n",
    "    histogram2 = cv2.calcHist([image], [i], None, [256], [0, 256])\n",
    "    plt.plot(histogram2, color = col)\n",
    "    plt.xlim([0, 256])\n",
    "plt.show()"
   ]
  }
 ],
 "metadata": {
  "kernelspec": {
   "display_name": "Python 3",
   "language": "python",
   "name": "python3"
  },
  "language_info": {
   "codemirror_mode": {
    "name": "ipython",
    "version": 3
   },
   "file_extension": ".py",
   "mimetype": "text/x-python",
   "name": "python",
   "nbconvert_exporter": "python",
   "pygments_lexer": "ipython3",
   "version": "3.6.5"
  }
 },
 "nbformat": 4,
 "nbformat_minor": 2
}
