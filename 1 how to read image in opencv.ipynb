{
 "cells": [
  {
   "cell_type": "code",
   "execution_count": 1,
   "metadata": {},
   "outputs": [],
   "source": [
    "import cv2\n",
    "import numpy as np"
   ]
  },
  {
   "cell_type": "markdown",
   "metadata": {},
   "source": [
    "# How to read image in opencv"
   ]
  },
  {
   "cell_type": "code",
   "execution_count": 2,
   "metadata": {},
   "outputs": [],
   "source": [
    "#load the image using 'imread' function\n",
    "img = cv2.imread('my.JPEG')\n",
    "\n",
    "#To display our image we use 'imshow'\n",
    "#The first parameter will be title shown on image window\n",
    "#The second parameter is the image variable\n",
    "cv2.imshow('Hello World', img)\n",
    "\n",
    "\n",
    "#'waitKey' allows us to input information when a image window is open\n",
    "#By leaving it blank it just waits for anykey to be pressed before\n",
    "#continuing, By placing numbers (except 0), we can specify a delay for\n",
    "#how long you keep the window open (time is in milliseconds here)\n",
    "\n",
    "cv2.waitKey(0) #you can leave it empty zero and empty leave thing\n",
    "\n",
    "#This closes all open windows\n",
    "#Failure to place this will cause your program to hang\n",
    "cv2.destroyAllWindows()"
   ]
  },
  {
   "cell_type": "markdown",
   "metadata": {},
   "source": [
    "#### ^Our picture is cropped\n",
    "By this higher dimension's picture will not be shown to the screen fully they cropped automatically\n",
    "because our computer screen is less in dimension and our picture is in higher dimensions like more width and hight\n",
    "so we can fix this by adjusting the size of our input picture"
   ]
  },
  {
   "cell_type": "markdown",
   "metadata": {},
   "source": [
    "## image in the form of array"
   ]
  },
  {
   "cell_type": "code",
   "execution_count": 4,
   "metadata": {
    "scrolled": false
   },
   "outputs": [
    {
     "name": "stdout",
     "output_type": "stream",
     "text": [
      "[[[141 151 151]\n",
      "  [141 151 151]\n",
      "  [142 152 152]\n",
      "  ...\n",
      "  [135 144 153]\n",
      "  [127 136 146]\n",
      "  [133 142 152]]\n",
      "\n",
      " [[142 152 152]\n",
      "  [141 151 151]\n",
      "  [141 151 151]\n",
      "  ...\n",
      "  [139 148 157]\n",
      "  [132 141 151]\n",
      "  [138 147 157]]\n",
      "\n",
      " [[140 150 150]\n",
      "  [139 149 149]\n",
      "  [141 151 151]\n",
      "  ...\n",
      "  [140 149 158]\n",
      "  [134 143 153]\n",
      "  [137 145 158]]\n",
      "\n",
      " ...\n",
      "\n",
      " [[200 139  95]\n",
      "  [201 140  96]\n",
      "  [193 132  88]\n",
      "  ...\n",
      "  [112 134 199]\n",
      "  [108 128 193]\n",
      "  [118 135 202]]\n",
      "\n",
      " [[206 143  99]\n",
      "  [200 137  93]\n",
      "  [203 140  96]\n",
      "  ...\n",
      "  [123 142 209]\n",
      "  [119 135 204]\n",
      "  [119 134 203]]\n",
      "\n",
      " [[202 140  94]\n",
      "  [198 135  91]\n",
      "  [199 136  92]\n",
      "  ...\n",
      "  [123 142 210]\n",
      "  [129 145 214]\n",
      "  [121 135 207]]]\n"
     ]
    }
   ],
   "source": [
    "print(img)"
   ]
  },
  {
   "cell_type": "markdown",
   "metadata": {},
   "source": [
    "## shape:- \n",
    "We can also check the shape of image by this"
   ]
  },
  {
   "cell_type": "code",
   "execution_count": 11,
   "metadata": {
    "scrolled": true
   },
   "outputs": [
    {
     "data": {
      "text/plain": [
       "(5184, 3456, 3)"
      ]
     },
     "execution_count": 11,
     "metadata": {},
     "output_type": "execute_result"
    }
   ],
   "source": [
    "img.shape"
   ]
  },
  {
   "cell_type": "markdown",
   "metadata": {},
   "source": [
    "### ^in this first(5184) is height, 2nd(3456) is width and third(3) is RGB means color"
   ]
  },
  {
   "cell_type": "markdown",
   "metadata": {},
   "source": [
    "# cv2.imwrite('path', img)"
   ]
  },
  {
   "cell_type": "markdown",
   "metadata": {},
   "source": [
    "#### How do we save images we edit in OpenCV?"
   ]
  },
  {
   "cell_type": "code",
   "execution_count": 17,
   "metadata": {},
   "outputs": [
    {
     "data": {
      "text/plain": [
       "True"
      ]
     },
     "execution_count": 17,
     "metadata": {},
     "output_type": "execute_result"
    }
   ],
   "source": [
    "#Simply use 'imwrite' specificing the file name and the image to be saved\n",
    "cv2.imwrite('output.png', img)\n",
    "cv2.imwrite('output.jpg', img)"
   ]
  },
  {
   "cell_type": "code",
   "execution_count": 16,
   "metadata": {},
   "outputs": [],
   "source": [
    "img2 = cv2.imread('output.png')\n",
    "cv2.imshow('output image', img2)\n",
    "cv2.waitKey() #it waits untill any key to be pressed\n",
    "cv2.destroyAllWindows()"
   ]
  }
 ],
 "metadata": {
  "kernelspec": {
   "display_name": "Python 3",
   "language": "python",
   "name": "python3"
  },
  "language_info": {
   "codemirror_mode": {
    "name": "ipython",
    "version": 3
   },
   "file_extension": ".py",
   "mimetype": "text/x-python",
   "name": "python",
   "nbconvert_exporter": "python",
   "pygments_lexer": "ipython3",
   "version": "3.6.5"
  }
 },
 "nbformat": 4,
 "nbformat_minor": 2
}
