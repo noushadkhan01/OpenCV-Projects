{
 "cells": [
  {
   "cell_type": "code",
   "execution_count": 1,
   "metadata": {},
   "outputs": [],
   "source": [
    "import numpy as np, cv2"
   ]
  },
  {
   "cell_type": "markdown",
   "metadata": {},
   "source": [
    "# Cropping Images"
   ]
  },
  {
   "cell_type": "markdown",
   "metadata": {},
   "source": [
    "## cropped = image[start_row:end_row, start_col:end_col]"
   ]
  },
  {
   "cell_type": "code",
   "execution_count": 6,
   "metadata": {},
   "outputs": [],
   "source": [
    "import cv2, numpy as np\n",
    "\n",
    "image = cv2.imread('my.JPG')\n",
    "height, width = image.shape[:2]\n",
    "\n",
    "#Let's get the starting pixel coordinates (top left of cropping rectangle)\n",
    "#we are converting into int because dimension are oly in int\n",
    "#start_row, start_col = int(height * .25), int(width * .25)\n",
    "start_row, start_col = 0, 50\n",
    "#Let's get the ending pixel coordinates (bottom right)\n",
    "\n",
    "#end_row, end_col = int(height * .75), int(width * .75)\n",
    "end_row, end_col = 350, 400\n",
    "#Simply use indexing to crop out the rectangle we desire\n",
    "try:\n",
    "    cropped = image[start_row:end_row, start_col:end_col]\n",
    "    cv2.imshow('Original image', image)\n",
    "    cv2.waitKey()\n",
    "    cv2.imshow('Cropped Image', cropped)\n",
    "    #cv2.imwrite('Cropped Image.png', cropped)\n",
    "except:\n",
    "    cv2.imshow('Not Cropped Original Image', image)\n",
    "cv2.waitKey()\n",
    "cv2.destroyAllWindows()"
   ]
  },
  {
   "cell_type": "code",
   "execution_count": 3,
   "metadata": {
    "scrolled": false
   },
   "outputs": [
    {
     "data": {
      "text/plain": [
       "(700, 512, 3)"
      ]
     },
     "execution_count": 3,
     "metadata": {},
     "output_type": "execute_result"
    }
   ],
   "source": [
    "image.shape"
   ]
  }
 ],
 "metadata": {
  "kernelspec": {
   "display_name": "Python 3",
   "language": "python",
   "name": "python3"
  },
  "language_info": {
   "codemirror_mode": {
    "name": "ipython",
    "version": 3
   },
   "file_extension": ".py",
   "mimetype": "text/x-python",
   "name": "python",
   "nbconvert_exporter": "python",
   "pygments_lexer": "ipython3",
   "version": "3.6.5"
  }
 },
 "nbformat": 4,
 "nbformat_minor": 2
}
